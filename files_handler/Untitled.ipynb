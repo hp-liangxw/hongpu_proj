{
 "cells": [
  {
   "cell_type": "code",
   "execution_count": 5,
   "metadata": {},
   "outputs": [],
   "source": [
    "import os\n",
    "import shutil"
   ]
  },
  {
   "cell_type": "code",
   "execution_count": 7,
   "metadata": {},
   "outputs": [],
   "source": [
    "ng_box_dir = r\"D:\\OneDrive\\MyDrive\\OneDrive\\Projects\\longi\\AI_results\\2019.08.04_day\\ng_with_box\"\n",
    "ok_dir = r\"D:\\OneDrive\\MyDrive\\OneDrive\\Projects\\longi\\production_line_images\\20190804\\DayFlight\\OK\"\n",
    "actually_dir = os.path.join(r\"D:\\OneDrive\\MyDrive\\OneDrive\\Projects\\longi\\AI_results\\2019.08.04_day\\actually_overkill\")\n",
    "if not os.path.exists(actually_dir):\n",
    "    os.makedirs(actually_dir)\n",
    "\n",
    "ng_box_list = os.listdir(ng_box_dir)\n",
    "ok_list = os.listdir(ok_dir)\n",
    "\n",
    "ng_names = [i.split(\"_\")[0] if \"_\" in i else i.split(\".\")[0]  for i in ng_box_list]\n",
    "ok_names = [i.split(\"_\")[0] if \"_\" in i else i.split(\".\")[0]  for i in ok_list]\n",
    "\n",
    "over_names = set(ng_names) - set(ok_names)\n",
    "\n",
    "for i in over_names:\n",
    "    for j in ng_box_list:\n",
    "        if i in j:\n",
    "            shutil.copyfile(\n",
    "                os.path.join(ng_box_dir, j),\n",
    "                os.path.join(actually_dir, j),\n",
    "            )"
   ]
  },
  {
   "cell_type": "code",
   "execution_count": 3,
   "metadata": {},
   "outputs": [
    {
     "data": {
      "text/plain": [
       "{1}"
      ]
     },
     "execution_count": 3,
     "metadata": {},
     "output_type": "execute_result"
    }
   ],
   "source": [
    "ng = set([1,2,3])\n",
    "ok = set([2,3,4])\n",
    "ng - ok"
   ]
  },
  {
   "cell_type": "code",
   "execution_count": null,
   "metadata": {},
   "outputs": [],
   "source": []
  },
  {
   "cell_type": "code",
   "execution_count": null,
   "metadata": {},
   "outputs": [],
   "source": []
  }
 ],
 "metadata": {
  "kernelspec": {
   "display_name": "Python 3",
   "language": "python",
   "name": "python3"
  },
  "language_info": {
   "codemirror_mode": {
    "name": "ipython",
    "version": 3
   },
   "file_extension": ".py",
   "mimetype": "text/x-python",
   "name": "python",
   "nbconvert_exporter": "python",
   "pygments_lexer": "ipython3",
   "version": "3.6.5"
  }
 },
 "nbformat": 4,
 "nbformat_minor": 2
}
