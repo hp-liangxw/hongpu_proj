{
 "cells": [
  {
   "cell_type": "code",
   "execution_count": 1,
   "metadata": {},
   "outputs": [],
   "source": [
    "# 文件拷贝\n",
    "import os\n",
    "import shutil"
   ]
  },
  {
   "cell_type": "code",
   "execution_count": 3,
   "metadata": {},
   "outputs": [
    {
     "name": "stdout",
     "output_type": "stream",
     "text": [
      "Please input yes or no!\n",
      "Please input yes or no!\n",
      "Please input yes or no!\n",
      "Please input yes or no!\n",
      "Please input yes or no!\n",
      "Please input yes or no!\n"
     ]
    }
   ],
   "source": [
    "answer = input(\"Is the configuration file correct? [yes/no]:\")\n",
    "while answer.upper() not in [\"YES\", \"Y\", \"NO\", \"N\"]:\n",
    "    print(\"Please input yes or no!\")\n",
    "    answer = input()"
   ]
  },
  {
   "cell_type": "markdown",
   "metadata": {},
   "source": [
    "## 查找真实miss的文件\n",
    "\n",
    "- 文件夹遍历"
   ]
  },
  {
   "cell_type": "code",
   "execution_count": 19,
   "metadata": {},
   "outputs": [
    {
     "name": "stdout",
     "output_type": "stream",
     "text": [
      "190712.jpg\n",
      "LRP503033190800805008.jpg\n",
      "LRP503033190800805208.jpg\n",
      "LRP503033190800805273.jpg\n",
      "LRP503033190800805287.jpg\n",
      "LRP503033190800805295.jpg\n",
      "LRP503033190800805355.jpg\n",
      "LRP503033190800805372.jpg\n",
      "LRP503033190800805439.jpg\n",
      "LRP503033190800904216.jpg\n",
      "LRP503033190800904286.jpg\n",
      "LRP503033190800904320.jpg\n",
      "LRP503033190800904333.jpg\n",
      "LRP503033190800905041.jpg\n",
      "LRP503033190800905050.jpg\n",
      "LRP503033190800905083.jpg\n",
      "LRP503033190800905092.jpg\n",
      "LRP503033190800905107.jpg\n"
     ]
    }
   ],
   "source": [
    "# 文件拷贝\n",
    "import os\n",
    "import shutil\n",
    "# 沛德机台图片路径\n",
    "all_dir = r\"D:\\OneDrive\\MyDrive\\OneDrive\\Projects\\longi\\production_line_images\\20190807\"\n",
    "# 软件检测结果\n",
    "ai_result_dir = r\"D:\\OneDrive\\MyDrive\\OneDrive\\Projects\\longi\\AI_results\\2019.08.07_day\"\n",
    "miss_dir = os.path.join(ai_result_dir, r\"missing\")\n",
    "actually_dir = os.path.join(ai_result_dir, r\"actually_miss\")\n",
    "if not os.path.exists(actually_dir):\n",
    "    os.makedirs(actually_dir)\n",
    "\n",
    "miss_images = os.listdir(miss_dir)\n",
    "\n",
    "for img_name in miss_images:\n",
    "    miss_path = os.path.join(miss_dir, img_name)\n",
    "    t1 = os.path.getmtime(miss_path)\n",
    "\n",
    "    for root, dirs, files in os.walk(all_dir):  # 遍历所有目录，包括自身\n",
    "        for name in files:  # 遍历文件，抓取指定文件\n",
    "            if \"_\" in img_name:\n",
    "                name_1 = img_name.split(\"_\")[0]\n",
    "            else:\n",
    "                name_1 = img_name\n",
    "            if \"_\" in name:\n",
    "                name_2 = name.split(\"_\")[0]\n",
    "            else:\n",
    "                name_2 = name\n",
    "            \n",
    "            if name_1 == name_2:\n",
    "                original_path = os.path.join(root, name)\n",
    "                t2 = os.path.getmtime(original_path)\n",
    "#                     print(original_path)\n",
    "#                     print(miss_path)\n",
    "#                     print(root)\n",
    "#                     print(t2 - t1)\n",
    "                if 0 < t2 - t1 <= 2*60 and \"NG\" in root:\n",
    "#                     print(root)\n",
    "                    print(img_name)\n",
    "                    shutil.copyfile(\n",
    "                        miss_path,\n",
    "                        os.path.join(actually_dir, img_name)\n",
    "                    )"
   ]
  },
  {
   "cell_type": "markdown",
   "metadata": {},
   "source": [
    "## 真实overkill"
   ]
  },
  {
   "cell_type": "code",
   "execution_count": 20,
   "metadata": {},
   "outputs": [
    {
     "name": "stdout",
     "output_type": "stream",
     "text": [
      "LRP503033190800804982.jpg\n",
      "LRP503033190800804983.jpg\n",
      "LRP503033190800804988.jpg\n",
      "LRP503033190800804997.jpg\n",
      "LRP503033190800805002.jpg\n",
      "LRP503033190800805004.jpg\n",
      "LRP503033190800805013.jpg\n",
      "LRP503033190800805021.jpg\n",
      "LRP503033190800805022.jpg\n",
      "LRP503033190800805026.jpg\n",
      "LRP503033190800805042.jpg\n",
      "LRP503033190800805046.jpg\n",
      "LRP503033190800805051.jpg\n",
      "LRP503033190800805054.jpg\n",
      "LRP503033190800805058.jpg\n",
      "LRP503033190800805060.jpg\n",
      "LRP503033190800805061.jpg\n",
      "LRP503033190800805067.jpg\n",
      "LRP503033190800805080.jpg\n",
      "LRP503033190800805080_1.jpg\n",
      "LRP503033190800805083.jpg\n",
      "LRP503033190800805084.jpg\n",
      "LRP503033190800805092.jpg\n",
      "LRP503033190800805095.jpg\n",
      "LRP503033190800805112.jpg\n",
      "LRP503033190800805113.jpg\n",
      "LRP503033190800805114.jpg\n",
      "LRP503033190800805121.jpg\n",
      "LRP503033190800805122.jpg\n",
      "LRP503033190800805126.jpg\n",
      "LRP503033190800805128.jpg\n",
      "LRP503033190800805130.jpg\n",
      "LRP503033190800805132.jpg\n",
      "LRP503033190800805136.jpg\n",
      "LRP503033190800805140.jpg\n",
      "LRP503033190800805146.jpg\n",
      "LRP503033190800805160.jpg\n",
      "LRP503033190800805162.jpg\n",
      "LRP503033190800805163.jpg\n",
      "LRP503033190800805177.jpg\n",
      "LRP503033190800805180.jpg\n",
      "LRP503033190800805191.jpg\n",
      "LRP503033190800805215.jpg\n",
      "LRP503033190800805219.jpg\n",
      "LRP503033190800805225.jpg\n",
      "LRP503033190800805234.jpg\n",
      "LRP503033190800805239.jpg\n",
      "LRP503033190800805240.jpg\n",
      "LRP503033190800805241.jpg\n",
      "LRP503033190800805249.jpg\n",
      "LRP503033190800805251.jpg\n",
      "LRP503033190800805262.jpg\n",
      "LRP503033190800805262_1.jpg\n",
      "LRP503033190800805271.jpg\n",
      "LRP503033190800805276.jpg\n",
      "LRP503033190800805289.jpg\n",
      "LRP503033190800805292.jpg\n",
      "LRP503033190800805293.jpg\n",
      "LRP503033190800805298.jpg\n",
      "LRP503033190800805298_1.jpg\n",
      "LRP503033190800805306.jpg\n",
      "LRP503033190800805310.jpg\n",
      "LRP503033190800805313.jpg\n",
      "LRP503033190800805315.jpg\n",
      "LRP503033190800805323.jpg\n",
      "LRP503033190800805327.jpg\n",
      "LRP503033190800805331.jpg\n",
      "LRP503033190800805333.jpg\n",
      "LRP503033190800805338.jpg\n",
      "LRP503033190800805344.jpg\n",
      "LRP503033190800805345.jpg\n",
      "LRP503033190800805349.jpg\n",
      "LRP503033190800805357.jpg\n",
      "LRP503033190800805367.jpg\n",
      "LRP503033190800805389.jpg\n",
      "LRP503033190800805413.jpg\n",
      "LRP503033190800805422.jpg\n",
      "LRP503033190800805426.jpg\n",
      "LRP503033190800805428.jpg\n",
      "LRP503033190800805434.jpg\n",
      "LRP503033190800805438.jpg\n",
      "LRP503033190800805440.jpg\n",
      "LRP503033190800805445.jpg\n",
      "LRP503033190800805448.jpg\n",
      "LRP503033190800904208.jpg\n",
      "LRP503033190800904225.jpg\n",
      "LRP503033190800904251.jpg\n",
      "LRP503033190800904256.jpg\n",
      "LRP503033190800904288.jpg\n",
      "LRP503033190800904291.jpg\n",
      "LRP503033190800904296.jpg\n",
      "LRP503033190800904301.jpg\n",
      "LRP503033190800904301_1.jpg\n",
      "LRP503033190800904301_2.jpg\n",
      "LRP503033190800904304.jpg\n",
      "LRP503033190800904310.jpg\n",
      "LRP503033190800904311.jpg\n",
      "LRP503033190800904315.jpg\n",
      "LRP503033190800904326.jpg\n",
      "LRP503033190800904328.jpg\n",
      "LRP503033190800904336.jpg\n",
      "LRP503033190800904339.jpg\n",
      "LRP503033190800904339_1.jpg\n",
      "LRP503033190800904359.jpg\n",
      "LRP503033190800904359_1.jpg\n",
      "LRP503033190800904385.jpg\n",
      "LRP503033190800904399.jpg\n",
      "LRP503033190800904419.jpg\n",
      "LRP503033190800904459.jpg\n",
      "LRP503033190800904460.jpg\n",
      "LRP503033190800904466.jpg\n",
      "LRP503033190800904743.jpg\n",
      "LRP503033190800904761.jpg\n",
      "LRP503033190800904854.jpg\n",
      "LRP503033190800904878.jpg\n",
      "LRP503033190800904878_1.jpg\n",
      "LRP503033190800904910.jpg\n",
      "LRP503033190800904924.jpg\n",
      "LRP503033190800904924_1.jpg\n",
      "LRP503033190800904936.jpg\n",
      "LRP503033190800904941.jpg\n",
      "LRP503033190800904952.jpg\n",
      "LRP503033190800904956.jpg\n",
      "LRP503033190800904959.jpg\n",
      "LRP503033190800904973.jpg\n",
      "LRP503033190800904974.jpg\n",
      "LRP503033190800905022.jpg\n",
      "LRP503033190800905031.jpg\n",
      "LRP503033190800905042.jpg\n",
      "LRP503033190800905067.jpg\n",
      "LRP503033190800905076.jpg\n",
      "LRP503033190800905080.jpg\n",
      "LRP503033190800905109.jpg\n",
      "LRP503033190800905116.jpg\n"
     ]
    }
   ],
   "source": [
    "# 文件拷贝\n",
    "import os\n",
    "import shutil\n",
    "# 沛德机台图片路径\n",
    "all_dir = r\"D:\\OneDrive\\MyDrive\\OneDrive\\Projects\\longi\\production_line_images\\20190807\"\n",
    "# 软件结果\n",
    "ai_result_dir = r\"D:\\OneDrive\\MyDrive\\OneDrive\\Projects\\longi\\AI_results\\2019.08.07_day\"\n",
    "over_dir = os.path.join(ai_result_dir, r\"ng_with_box\")\n",
    "actually_dir = os.path.join(ai_result_dir, r\"actually_overkill\")\n",
    "if not os.path.exists(actually_dir):\n",
    "    os.makedirs(actually_dir)\n",
    "\n",
    "miss_images = os.listdir(over_dir)\n",
    "\n",
    "for img_name in miss_images:\n",
    "    miss_path = os.path.join(over_dir, img_name)\n",
    "    t1 = os.path.getmtime(miss_path)\n",
    "    \n",
    "    for root, dirs, files in os.walk(all_dir):  # 遍历所有目录，包括自身\n",
    "        for name in files:  # 遍历文件，抓取指定文件\n",
    "            if \"_\" in img_name:\n",
    "                name_1 = img_name.split(\"_\")[0]\n",
    "            else:\n",
    "                name_1 = img_name\n",
    "            if \"_\" in name:\n",
    "                name_2 = name.split(\"_\")[0]\n",
    "            else:\n",
    "                name_2 = name\n",
    "            if img_name in name:\n",
    "                original_path = os.path.join(root, name)\n",
    "                t2 = os.path.getmtime(original_path)\n",
    "                if 0 < t2 - t1 <= 2*60 and \"OK\" in root:\n",
    "#                     print(root)\n",
    "                    print(img_name)\n",
    "                    shutil.copyfile(\n",
    "                        miss_path,\n",
    "                        os.path.join(actually_dir, img_name)\n",
    "                    )"
   ]
  },
  {
   "cell_type": "code",
   "execution_count": null,
   "metadata": {},
   "outputs": [],
   "source": []
  },
  {
   "cell_type": "markdown",
   "metadata": {},
   "source": [
    "## 文件拷贝"
   ]
  },
  {
   "cell_type": "code",
   "execution_count": 21,
   "metadata": {},
   "outputs": [],
   "source": [
    "current_path = r\"D:\\OneDrive\\MyDrive\\OneDrive\\Projects\\longi\\AI_results\\2019.08.07_day\"\n",
    "# current_path = r\"D:\\Desktop\\result\\2019.08.06\\ng_with_box_20190803_NightFlight\"\n",
    "ng_with_box_dir = os.path.join(current_path, \"ng\")\n",
    "over_kill_dir = os.path.join(current_path, \"actually_overkill\")\n",
    "\n",
    "over_kill_list = os.listdir(over_kill_dir)\n",
    "\n",
    "for over in over_kill_list:\n",
    "    \n",
    "    name_2 = over.split(\".\")[0] + \"_ng.jpg\"\n",
    "    path_2 = os.path.join(over_kill_dir, name_2)\n",
    "    if not os.path.exists(path_2):\n",
    "        if os.path.exists(os.path.join(ng_with_box_dir, over)):\n",
    "            shutil.copyfile(\n",
    "                os.path.join(ng_with_box_dir, over), path_2\n",
    "            )"
   ]
  },
  {
   "cell_type": "markdown",
   "metadata": {},
   "source": [
    "# 查找返修的图片"
   ]
  },
  {
   "cell_type": "code",
   "execution_count": 20,
   "metadata": {},
   "outputs": [],
   "source": [
    "root_path = r\"D:\\OneDrive\\MyDrive\\OneDrive\\Projects\\longi\\production_line_images\\20190805\"\n",
    "shifts = [\n",
    "    \"DayFlight\", \n",
    "#     \"NightFlight\", \n",
    "#     \"CFlight\"\n",
    "]\n",
    "ng_ok = [\n",
    "    \"NG\", \n",
    "    \"OK\"\n",
    "]\n",
    "\n",
    "img_dict = {}\n",
    "lost_path = r\"D:\\OneDrive\\MyDrive\\OneDrive\\Projects\\longi\\production_line_images\\repair_lost_images\\20190805\\DayFlight\"\n",
    "for s in shifts:\n",
    "    for x in ng_ok:\n",
    "        full_path = os.path.join(root_path, s, x)\n",
    "        img_list = os.listdir(full_path)\n",
    "        \n",
    "        for img in img_list:\n",
    "            img_path = os.path.join(full_path, img)\n",
    "            \n",
    "            if \"_\" in img:\n",
    "                name = img.split(\"_\")[0]\n",
    "            else:\n",
    "                name = img.split(\".\")[0]\n",
    "            \n",
    "            modify_t = os.path.getmtime(img_path)\n",
    "            if name not in img_dict:\n",
    "                img_dict[name] = [modify_t, img_path, img]\n",
    "            else:\n",
    "                if img_dict[name][0] > modify_t:\n",
    "                    shutil.copyfile(img_dict[name][1], os.path.join(lost_path, img_dict[name][2]))\n",
    "                    img_dict[name] = [modify_t, img_path, img]\n",
    "                else:\n",
    "                    shutil.copyfile(img_path, os.path.join(lost_path, img))\n",
    "                "
   ]
  },
  {
   "cell_type": "code",
   "execution_count": null,
   "metadata": {},
   "outputs": [],
   "source": []
  },
  {
   "cell_type": "markdown",
   "metadata": {},
   "source": [
    "## 合并NG和OK"
   ]
  },
  {
   "cell_type": "code",
   "execution_count": 292,
   "metadata": {},
   "outputs": [],
   "source": [
    "folder = r\"D:\\longi_production_line_images\"\n",
    "\n",
    "dates = [\"20190731\", \"20190801\", \"20190802\", \"20190803\", \n",
    "         \"20190804\", \"20190805\", \"20190806\", \"20190807\"]\n",
    "# dates = [\"20190730\"]\n",
    "for d in dates:\n",
    "    if d == \"20190731\":\n",
    "        shifts = [\"NightFlight\", \"CFlight\"]\n",
    "    elif d == \"20190807\":\n",
    "        shifts = [\"DayFlight\"]\n",
    "    else:\n",
    "        shifts = [\"DayFlight\", \"NightFlight\", \"CFlight\"]\n",
    "        \n",
    "    for s in shifts:\n",
    "        # 创建文件夹\n",
    "        day_dir = os.path.join(folder, d, \"Day\")\n",
    "        night_dir = os.path.join(folder, d, \"Night\")\n",
    "        if not os.path.exists(day_dir):\n",
    "            os.makedirs(day_dir)\n",
    "        if not os.path.exists(night_dir):\n",
    "            os.makedirs(night_dir)\n",
    "        \n",
    "        root_dir = os.path.join(folder, d, s)\n",
    "        # \n",
    "        for root, dirs, files in os.walk(root_dir):  # 遍历所有目录，包括自身\n",
    "            for name in files:  # 遍历文件，抓取指定文件\n",
    "                src_path = os.path.join(root, name)\n",
    "                if s == \"DayFlight\":\n",
    "                    to_dir = day_dir\n",
    "                else:\n",
    "                    to_dir = night_dir\n",
    "\n",
    "                if not os.path.exists(os.path.join(to_dir, name)):\n",
    "                    dst_path = os.path.join(to_dir, name)\n",
    "                    shutil.move(src_path, dst_path)\n",
    "                else:\n",
    "                    if \"OK\" in src_path:\n",
    "                        dst_path = os.path.join(to_dir, name.split(\".\")[0] + \"_\" + \\\n",
    "                                                str(time.time())[6:15].replace(\".\", \"11\") + \".jpg\")\n",
    "                    else:\n",
    "                        dst_path = os.path.join(to_dir, name.split(\".\")[0] + \"_\" + \\\n",
    "                                                str(time.time())[6:15].replace(\".\", \"77\") + \".jpg\")\n",
    "                    shutil.move(src_path, dst_path)\n",
    "\n",
    "                    "
   ]
  },
  {
   "cell_type": "code",
   "execution_count": null,
   "metadata": {},
   "outputs": [],
   "source": []
  },
  {
   "cell_type": "code",
   "execution_count": 291,
   "metadata": {},
   "outputs": [
    {
     "data": {
      "text/plain": [
       "'2643AA4006.jpg'"
      ]
     },
     "execution_count": 291,
     "metadata": {},
     "output_type": "execute_result"
    }
   ],
   "source": [
    "import time\n",
    "str(time.time())[6:15].replace(\".\", \"AA\") + \".jpg\""
   ]
  },
  {
   "cell_type": "code",
   "execution_count": 251,
   "metadata": {},
   "outputs": [
    {
     "data": {
      "text/plain": [
       "1566319279.1088471"
      ]
     },
     "execution_count": 251,
     "metadata": {},
     "output_type": "execute_result"
    }
   ],
   "source": [
    "time.time()"
   ]
  },
  {
   "cell_type": "code",
   "execution_count": null,
   "metadata": {},
   "outputs": [],
   "source": []
  },
  {
   "cell_type": "code",
   "execution_count": null,
   "metadata": {},
   "outputs": [],
   "source": []
  },
  {
   "cell_type": "code",
   "execution_count": 307,
   "metadata": {},
   "outputs": [],
   "source": [
    "import cv2\n",
    "import pandas as pd\n",
    "\n",
    "def get_defect_loc(standard_df):\n",
    "    defect_loc = standard_df[(standard_df[\"class\"] == \"yinlie\")\n",
    "                             | (standard_df[\"class\"] == \"shixiao\")\n",
    "                             | (standard_df[\"class\"] == \"xuhan\")]\n",
    "\n",
    "    defect_loc = defect_loc.copy()\n",
    "    # 将row和col组合成loc\n",
    "    defect_loc[\"loc\"] = defect_loc[\"class\"] + \"_\" \\\n",
    "                        + (defect_loc[\"bigxmin\"]).astype(str) + \"_\" \\\n",
    "                        + (defect_loc[\"bigxmax\"]).astype(str) + \"_\" \\\n",
    "                        + (defect_loc[\"bigymin\"]).astype(str) + \"_\" \\\n",
    "                        + (defect_loc[\"bigymax\"]).astype(str) + \"_\" \\\n",
    "                        + (defect_loc[\"score\"]).astype(str)\n",
    "    # 对loc按serial_number进行聚合\n",
    "    defect_grouped = defect_loc['loc'].groupby(defect_loc['big_pic']).apply(lambda x: set(x))\n",
    "\n",
    "    res = {}\n",
    "    for s_n in defect_grouped.index:\n",
    "        res[s_n] = defect_grouped[s_n]\n",
    "    return res\n",
    "\n",
    "\n",
    "def draw_rectangle(img_path, save_path, defect_loc):\n",
    "    font = cv2.FONT_HERSHEY_SIMPLEX\n",
    "    for name, type_loc in defect_loc.items():\n",
    "        # print(name, loc)\n",
    "        pic_file = os.path.join(img_path, name + \".jpg\")\n",
    "        if os.path.exists(pic_file):\n",
    "            img_data = cv2.imread(pic_file)\n",
    "            \n",
    "            for i in type_loc:\n",
    "                defect_type, x1, x2, y1, y2, score = i.split(\"_\")\n",
    "                x1, x2, y1, y2 = int(x1), int(x2), int(y1), int(y2)\n",
    "                \n",
    "                if defect_type == \"yinlie\":\n",
    "                    color = (0, 0, 255)\n",
    "                elif defect_type == \"shixiao\":\n",
    "                    color = (0, 255, 0)\n",
    "                else:  # xuhan\n",
    "                    color = (255, 0, 0)\n",
    "\n",
    "                cv2.rectangle(img_data, (x1 - 12, y1 - 12), (x2 + 12, y2 + 12), color, 3)\n",
    "                cv2.putText(img_data, score[:7], (x1 - 12, y1 - 30), font, 1.2, color, 2)\n",
    "            cv2.imwrite(os.path.join(save_path, name + \".jpg\"), img_data)\n",
    "\n",
    "# ---------\n",
    "img_folder = r\"d:\\9BB_testset\\images\"\n",
    "save_folder = r\"D:\\9BB_testset\\jn_model\\img_with_box\"\n",
    "\n",
    "csv_path = r\"D:\\9BB_testset\\jn_model\\output_total.csv\"\n",
    "df = pd.read_csv(csv_path)\n",
    "\n",
    "defect_loc = get_defect_loc(df)\n",
    "draw_rectangle(img_folder, save_folder, defect_loc)"
   ]
  },
  {
   "cell_type": "code",
   "execution_count": 299,
   "metadata": {},
   "outputs": [
    {
     "data": {
      "text/plain": [
       "{'yinlie_996_1012_3502_3527'}"
      ]
     },
     "execution_count": 299,
     "metadata": {},
     "output_type": "execute_result"
    }
   ],
   "source": [
    "defect_loc[\"111547\"]"
   ]
  }
 ],
 "metadata": {
  "kernelspec": {
   "display_name": "Python 3",
   "language": "python",
   "name": "python3"
  },
  "language_info": {
   "codemirror_mode": {
    "name": "ipython",
    "version": 3
   },
   "file_extension": ".py",
   "mimetype": "text/x-python",
   "name": "python",
   "nbconvert_exporter": "python",
   "pygments_lexer": "ipython3",
   "version": "3.6.5"
  }
 },
 "nbformat": 4,
 "nbformat_minor": 2
}
