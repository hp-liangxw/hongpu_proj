{
 "cells": [
  {
   "cell_type": "code",
   "execution_count": null,
   "metadata": {},
   "outputs": [],
   "source": [
    "# 文件拷贝\n",
    "\n",
    "import os\n",
    "import shutil\n",
    "\n",
    "current_paht = os.getcwd()\n",
    "\n",
    "ng_with_box_dir = os.path.join(current_paht, \"ng_with_box\")\n",
    "over_kill_dir = os.path.join(current_paht, \"over_kill\")\n",
    "\n",
    "over_kill_list = os.listdir(over_kill_dir)\n",
    "\n",
    "for over in over_kill_list:\n",
    "    \n",
    "    name_2 = over.split(\".\")[0] + \"_box.jpg\"\n",
    "    path_2 = os.path.join(over_kill_dir, name_2)\n",
    "    if not os.path.exists(path_2):\n",
    "        shutil.copyfile(\n",
    "            os.path.join(ng_with_box_dir, over), path_2\n",
    "        )"
   ]
  },
  {
   "cell_type": "code",
   "execution_count": null,
   "metadata": {},
   "outputs": [],
   "source": []
  },
  {
   "cell_type": "code",
   "execution_count": null,
   "metadata": {},
   "outputs": [],
   "source": []
  },
  {
   "cell_type": "code",
   "execution_count": null,
   "metadata": {},
   "outputs": [],
   "source": []
  }
 ],
 "metadata": {
  "kernelspec": {
   "display_name": "Python 3",
   "language": "python",
   "name": "python3"
  },
  "language_info": {
   "codemirror_mode": {
    "name": "ipython",
    "version": 3
   },
   "file_extension": ".py",
   "mimetype": "text/x-python",
   "name": "python",
   "nbconvert_exporter": "python",
   "pygments_lexer": "ipython3",
   "version": "3.6.5"
  }
 },
 "nbformat": 4,
 "nbformat_minor": 2
}
