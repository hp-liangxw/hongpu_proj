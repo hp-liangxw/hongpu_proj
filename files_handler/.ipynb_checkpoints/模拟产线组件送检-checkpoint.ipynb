{
 "cells": [
  {
   "cell_type": "code",
   "execution_count": 1,
   "metadata": {},
   "outputs": [],
   "source": [
    "import re\n",
    "import os\n",
    "import glob\n",
    "import shutil\n",
    "import time\n",
    " "
   ]
  },
  {
   "cell_type": "markdown",
   "metadata": {},
   "source": [
    "# 分段图送检"
   ]
  },
  {
   "cell_type": "code",
   "execution_count": null,
   "metadata": {},
   "outputs": [],
   "source": [
    "\n",
    "slices_img_path = r'.\\\\origin' # 分段图放在这里\n",
    " \n",
    "pic_dict = {re.split('_', os.path.basename(k))[0]:{} for k in glob.glob(os.path.join(slices_img_path, r'*H.jpg'))}\n",
    "for p in glob.glob(os.path.join(slices_img_path, r'*H.jpg')):\n",
    "    pic_dict[re.split('_', os.path.basename(p))[0]][re.findall('([A-C]\\d)H', p)[0]] = p\n",
    "print(len(pic_dict))\n",
    " \n",
    "for k, v in pic_dict.items():\n",
    "    if len(v) == 12:\n",
    "        for pic in v.values():\n",
    "            name = os.path.basename(pic)\n",
    "            shutil.move(pic, '.\\\\test\\\\' + name)\n",
    "            time.sleep(10)"
   ]
  },
  {
   "cell_type": "markdown",
   "metadata": {},
   "source": [
    "# 组件图送检"
   ]
  },
  {
   "cell_type": "code",
   "execution_count": 18,
   "metadata": {},
   "outputs": [
    {
     "name": "stdout",
     "output_type": "stream",
     "text": [
      "LRP503033190800800068.jpg\n",
      "LRP503033190800800074.jpg\n",
      "LRP503033190800800126.jpg\n",
      "LRP503033190800800126_1.jpg\n",
      "LRP503033190800800181.jpg\n",
      "LRP503033190800800191.jpg\n",
      "LRP503033190800800360.jpg\n",
      "LRP503033190800800426.jpg\n",
      "LRP503033190800800427.jpg\n",
      "LRP503033190800800428.jpg\n",
      "LRP503033190800800429.jpg\n",
      "LRP503033190800800430.jpg\n",
      "LRP503033190800800494.jpg\n",
      "LRP503033190800800539.jpg\n",
      "LRP503033190800800539_1.jpg\n",
      "LRP503033190800800919.jpg\n",
      "LRP503033190800800949.jpg\n",
      "LRP503033190800800949_1.jpg\n",
      "LRP503033190800800977.jpg\n",
      "LRP503033190800800987.jpg\n",
      "LRP503033190800801000.jpg\n",
      "LRP503033190800801120.jpg\n",
      "LRP503033190800801337.jpg\n"
     ]
    }
   ],
   "source": [
    "root_path = r\"D:\\OneDrive\\MyDrive\\OneDrive\\Projects\\longi\\AI_results\\2019.08.03_day\\merge_error\"\n",
    "shifts = [\n",
    "    \"DayFlight\", \n",
    "#     \"NightFlight\", \n",
    "#     \"CFlight\"\n",
    "]\n",
    "ng_ok = [\n",
    "#     \"NG\", \n",
    "    \"OK\"\n",
    "]\n",
    "\n",
    "for s in shifts:\n",
    "    for x in ng_ok:\n",
    "        full_path = os.path.join(root_path, s, x)\n",
    "        img_list = os.listdir(full_path)\n",
    "        \n",
    "        for img in img_list:\n",
    "            print(img)\n",
    "            shutil.copyfile(os.path.join(full_path, img), \n",
    "                            os.path.join(r'D:\\Desktop\\test', img))\n",
    "            time.sleep(16)\n",
    "        \n",
    "#         # 重命名\n",
    "#         os.rename(r\"D:\\Desktop\\result\\2019.08.06\\ng\", \n",
    "#                   os.path.join(r\"D:\\Desktop\\result\\2019.08.06\", \"ng_\" + s + \"_\" + x))\n",
    "#         os.rename(r\"D:\\Desktop\\result\\2019.08.06\\ng_with_box\", \n",
    "#                   os.path.join(r\"D:\\Desktop\\result\\2019.08.06\", \"ng_with_box_\" + s + \"_\" + x))\n",
    "#         # 删除test中的文件\n",
    "#         test_path = r\"D:\\Desktop\\test\"\n",
    "#         test_imgs = os.listdir(test_path)\n",
    "#         for t in test_imgs:\n",
    "#             os.remove(os.path.join(test_path, t))"
   ]
  },
  {
   "cell_type": "code",
   "execution_count": 9,
   "metadata": {},
   "outputs": [],
   "source": []
  }
 ],
 "metadata": {
  "kernelspec": {
   "display_name": "Python 3",
   "language": "python",
   "name": "python3"
  },
  "language_info": {
   "codemirror_mode": {
    "name": "ipython",
    "version": 3
   },
   "file_extension": ".py",
   "mimetype": "text/x-python",
   "name": "python",
   "nbconvert_exporter": "python",
   "pygments_lexer": "ipython3",
   "version": "3.6.5"
  }
 },
 "nbformat": 4,
 "nbformat_minor": 2
}
