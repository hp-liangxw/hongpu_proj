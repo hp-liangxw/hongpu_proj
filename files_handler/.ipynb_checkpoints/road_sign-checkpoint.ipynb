{
 "cells": [
  {
   "cell_type": "code",
   "execution_count": null,
   "metadata": {
    "collapsed": true
   },
   "outputs": [],
   "source": []
  },
  {
   "cell_type": "code",
   "execution_count": 1,
   "metadata": {
    "collapsed": true
   },
   "outputs": [],
   "source": [
    "import os  \n",
    "import glob\n",
    "import cv2\n",
    "import time\n",
    "import numpy as np\n",
    "from matplotlib import pyplot as plt\n",
    "\n",
    "%config InlineBackend.figure_format='svg'"
   ]
  },
  {
   "cell_type": "code",
   "execution_count": 2,
   "metadata": {
    "collapsed": true
   },
   "outputs": [],
   "source": [
    "def show_image(img_matrix):\n",
    "#     plt.figure(figsize=(8, 10))\n",
    "    plt.imshow(img_matrix, cmap = 'gray'), plt.xticks([]), plt.yticks([])\n",
    "    plt.show()\n",
    "\n",
    "def show_image_in_window(img_matrix):\n",
    "    cv2.namedWindow('window', cv2.WINDOW_NORMAL)\n",
    "    cv2.imshow('window', img_matrix )      \n",
    "    cv2.waitKey(0)    \n",
    "    cv2.destroyAllWindows()  "
   ]
  },
  {
   "cell_type": "markdown",
   "metadata": {},
   "source": []
  },
  {
   "cell_type": "markdown",
   "metadata": {},
   "source": [
    "# 获取模板\n",
    "\n",
    "east01 [1765:1850, 2220:2482]  \n",
    "east02 [1480:1575, 1890:2190]  \n",
    "east03 [1270:1360, 1355:1695]  \n",
    "east04 [1110:1200, 930:1310]  \n",
    "east05 [1100:1185, 365:765]  \n",
    "east06 [1110:1200, 955:1300]  \n",
    "east07 [1247:1333, 1010:1289]  \n",
    "east08 [1130:1200, 943:1145]  \n",
    "east09 [1353:1417, 1685:1823]"
   ]
  },
  {
   "cell_type": "code",
   "execution_count": 4,
   "metadata": {
    "collapsed": true
   },
   "outputs": [],
   "source": [
    "#提取蓝色区域\n",
    "blue_lower = np.array([100,50,50])\n",
    "blue_upper = np.array([124,255,255])"
   ]
  },
  {
   "cell_type": "code",
   "execution_count": 5,
   "metadata": {},
   "outputs": [
    {
     "data": {
      "image/svg+xml": [
       "<?xml version=\"1.0\" encoding=\"utf-8\" standalone=\"no\"?>\r\n",
       "<!DOCTYPE svg PUBLIC \"-//W3C//DTD SVG 1.1//EN\"\r\n",
       "  \"http://www.w3.org/Graphics/SVG/1.1/DTD/svg11.dtd\">\r\n",
       "<!-- Created with matplotlib (http://matplotlib.org/) -->\r\n",
       "<svg height=\"176pt\" version=\"1.1\" viewBox=\"0 0 356 176\" width=\"356pt\" xmlns=\"http://www.w3.org/2000/svg\" xmlns:xlink=\"http://www.w3.org/1999/xlink\">\r\n",
       " <defs>\r\n",
       "  <style type=\"text/css\">\r\n",
       "*{stroke-linecap:butt;stroke-linejoin:round;}\r\n",
       "  </style>\r\n",
       " </defs>\r\n",
       " <g id=\"figure_1\">\r\n",
       "  <g id=\"patch_1\">\r\n",
       "   <path d=\"M 0 176.669565 \r\n",
       "L 356.2 176.669565 \r\n",
       "L 356.2 0 \r\n",
       "L 0 0 \r\n",
       "z\r\n",
       "\" style=\"fill:none;\"/>\r\n",
       "  </g>\r\n",
       "  <g id=\"axes_1\">\r\n",
       "   <g id=\"patch_2\">\r\n",
       "    <path d=\"M 10.7 165.969565 \r\n",
       "L 345.5 165.969565 \r\n",
       "L 345.5 10.7 \r\n",
       "L 10.7 10.7 \r\n",
       "z\r\n",
       "\" style=\"fill:#ffffff;\"/>\r\n",
       "   </g>\r\n",
       "   <g clip-path=\"url(#p48dbb92161)\">\r\n",
       "    <image height=\"156\" id=\"imageb3adba4999\" transform=\"scale(1 -1)translate(0 -156)\" width=\"335\" x=\"10.7\" xlink:href=\"data:image/png;base64,\r\n",
       "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\" y=\"-9.969565\"/>\r\n",
       "   </g>\r\n",
       "   <g id=\"matplotlib.axis_1\"/>\r\n",
       "   <g id=\"matplotlib.axis_2\"/>\r\n",
       "   <g id=\"patch_3\">\r\n",
       "    <path d=\"M 10.7 165.969565 \r\n",
       "L 10.7 10.7 \r\n",
       "\" style=\"fill:none;stroke:#000000;stroke-linecap:square;stroke-linejoin:miter;stroke-width:0.8;\"/>\r\n",
       "   </g>\r\n",
       "   <g id=\"patch_4\">\r\n",
       "    <path d=\"M 345.5 165.969565 \r\n",
       "L 345.5 10.7 \r\n",
       "\" style=\"fill:none;stroke:#000000;stroke-linecap:square;stroke-linejoin:miter;stroke-width:0.8;\"/>\r\n",
       "   </g>\r\n",
       "   <g id=\"patch_5\">\r\n",
       "    <path d=\"M 10.7 165.969565 \r\n",
       "L 345.5 165.969565 \r\n",
       "\" style=\"fill:none;stroke:#000000;stroke-linecap:square;stroke-linejoin:miter;stroke-width:0.8;\"/>\r\n",
       "   </g>\r\n",
       "   <g id=\"patch_6\">\r\n",
       "    <path d=\"M 10.7 10.7 \r\n",
       "L 345.5 10.7 \r\n",
       "\" style=\"fill:none;stroke:#000000;stroke-linecap:square;stroke-linejoin:miter;stroke-width:0.8;\"/>\r\n",
       "   </g>\r\n",
       "  </g>\r\n",
       " </g>\r\n",
       " <defs>\r\n",
       "  <clipPath id=\"p48dbb92161\">\r\n",
       "   <rect height=\"155.269565\" width=\"334.8\" x=\"10.7\" y=\"10.7\"/>\r\n",
       "  </clipPath>\r\n",
       " </defs>\r\n",
       "</svg>\r\n"
      ],
      "text/plain": [
       "<matplotlib.figure.Figure at 0x2791e03d128>"
      ]
     },
     "metadata": {},
     "output_type": "display_data"
    },
    {
     "data": {
      "text/plain": [
       "True"
      ]
     },
     "execution_count": 5,
     "metadata": {},
     "output_type": "execute_result"
    }
   ],
   "source": [
    "img_t = cv2.imread('images/east009.jpg')\n",
    "# show_image(img_1)\n",
    "\n",
    "hsv_t = cv2.cvtColor(img_t, cv2.COLOR_BGR2HSV)\n",
    "mask_t = cv2.inRange(hsv_t,blue_lower,blue_upper)\n",
    "img_t[mask_t==0,:] = 0\n",
    "\n",
    "template = img_t[1353:1417, 1685:1823]  \n",
    "show_image(template)\n",
    "\n",
    "cv2.imwrite('template_e09.jpg', template)"
   ]
  },
  {
   "cell_type": "markdown",
   "metadata": {},
   "source": [
    "# 阈值处理"
   ]
  },
  {
   "cell_type": "code",
   "execution_count": 6,
   "metadata": {
    "collapsed": true
   },
   "outputs": [],
   "source": [
    "def get_bbox(img, mask):\n",
    "    \"\"\"\n",
    "    模板匹配\n",
    "    \"\"\"\n",
    "    img[mask==0,:] = 0\n",
    "    \n",
    "    bbox = []\n",
    "    for i in range(1, 10):\n",
    "        template = cv2.imread('template_e0{}.jpg'.format(i))\n",
    "        h, w, _ = template.shape\n",
    "\n",
    "        # Apply template Matching\n",
    "        res = cv2.matchTemplate(img, template, cv2.TM_CCOEFF_NORMED)\n",
    "        \n",
    "        threshold = int(np.max(res)*1000)/1000\n",
    "        loc = np.where(res >= threshold)\n",
    "        \n",
    "        for pt in zip(*loc[::-1]):\n",
    "#             print(\"{}:{}\".format(i, [pt[0], pt[1], pt[0] + w, pt[1] + h]))\n",
    "            bbox.append([pt[0], pt[1], pt[0] + w, pt[1] + h])\n",
    "            \n",
    "    return bbox"
   ]
  },
  {
   "cell_type": "code",
   "execution_count": 16,
   "metadata": {
    "scrolled": true
   },
   "outputs": [
    {
     "name": "stdout",
     "output_type": "stream",
     "text": [
      "1:[936, 1332, 1198, 1417]\n",
      "2:[1135, 1298, 1435, 1393]\n",
      "3:[1000, 1314, 1340, 1404]\n",
      "4:[971, 1315, 1351, 1405]\n",
      "5:[700, 1311, 1100, 1396]\n",
      "5:[704, 1311, 1104, 1396]\n",
      "6:[990, 1315, 1335, 1405]\n",
      "6:[993, 1316, 1338, 1406]\n",
      "7:[1030, 1317, 1309, 1403]\n",
      "8:[997, 1315, 1199, 1385]\n",
      "9:[1158, 1321, 1296, 1385]\n"
     ]
    }
   ],
   "source": [
    "# 使用9个模板分别进行匹配\n",
    "west_img = cv2.imread(r'images/west008.jpg')\n",
    "hsv = cv2.cvtColor(west_img, cv2.COLOR_BGR2HSV)\n",
    "#提取蓝色区域\n",
    "mask = cv2.inRange(hsv,blue_lower,blue_upper)\n",
    "\n",
    "# 得到每个模板对应的区域\n",
    "tic = time.time()\n",
    "img_cp = west_img.copy()\n",
    "bbox = get_bbox(img_cp, mask)  # 使用模板匹配得到可能的区域\n",
    "# for box in bbox:\n",
    "#     x1, y1, x2, y2 = box\n",
    "#     cv2.rectangle(west_img, (x1, y1), (x2, y2), (255, 255, 255), 1)\n",
    "# cv2.imwrite('res/west005_res.jpg', west_img)\n",
    "toc = time.time()"
   ]
  },
  {
   "cell_type": "code",
   "execution_count": 18,
   "metadata": {},
   "outputs": [
    {
     "name": "stdout",
     "output_type": "stream",
     "text": [
      "time:14.004528284072876\n"
     ]
    }
   ],
   "source": [
    "print(\"time:{}\".format(toc-tic))"
   ]
  },
  {
   "cell_type": "code",
   "execution_count": 19,
   "metadata": {},
   "outputs": [
    {
     "data": {
      "text/plain": [
       "[[700, 1298, 1435, 1417]]"
      ]
     },
     "execution_count": 19,
     "metadata": {},
     "output_type": "execute_result"
    }
   ],
   "source": [
    "def if_overlap(bbox1, bbox2):\n",
    "    \"\"\"\n",
    "    判断bbox1和bbox2是否重叠\n",
    "    \"\"\"\n",
    "    x1_a, y1_a, x2_a, y2_a = bbox1\n",
    "    x1_b, y1_b, x2_b, y2_b = bbox2\n",
    "    \n",
    "    width_a = x2_a - x1_a\n",
    "    height_a = y2_a - y1_a\n",
    "    \n",
    "    width_b = x2_b - x1_b\n",
    "    height_b = y2_b - y1_b\n",
    "    \n",
    "    startx = min(x1_a, x1_b)\n",
    "    endx = max(x2_a, x2_b)\n",
    "    w = width_a + width_b - (endx - startx)\n",
    "    \n",
    "    starty = min(y1_a, y1_b)\n",
    "    endy = max(y2_a, y2_b)\n",
    "    h = height_a + height_b - (endy - starty)\n",
    "    \n",
    "    if w <= 0 or h <= 0:\n",
    "        return False\n",
    "    else:\n",
    "        return True\n",
    "\n",
    "def remove_overlap_box(bbox):\n",
    "    \"\"\"\n",
    "    将有重叠的box删除\n",
    "    \"\"\"\n",
    "    for i in bbox[1:]:\n",
    "        j = bbox[0]\n",
    "        if if_overlap(i, j):\n",
    "            bbox.remove(i)\n",
    "            bbox.remove(j)\n",
    "            new = [min(i[0], j[0]), min(i[1], j[1]), max(i[2], j[2]), max(i[3], j[3])]\n",
    "            bbox.insert(0, new)\n",
    "    return bbox\n",
    "\n",
    "\n",
    "t = []\n",
    "\n",
    "while len(bbox) != 0:\n",
    "    bbox = remove_overlap_box(bbox)\n",
    "    t.append(bbox[0])\n",
    "    bbox.pop(0)\n",
    "t"
   ]
  },
  {
   "cell_type": "code",
   "execution_count": 20,
   "metadata": {},
   "outputs": [
    {
     "data": {
      "text/plain": [
       "[700, 1298, 1435, 1417]"
      ]
     },
     "execution_count": 20,
     "metadata": {},
     "output_type": "execute_result"
    }
   ],
   "source": [
    "# 得到面积最大的box\n",
    "box_max = t[0]\n",
    "\n",
    "if len(t) > 1:    \n",
    "    area_max = 0\n",
    "    for i in t:\n",
    "        x1, y1, x2, y2 = i\n",
    "        area = (x2 - x1) * (y2 - y1)\n",
    "        if area_max < area:\n",
    "            box_max = i\n",
    "            area_max = area\n",
    "box_max"
   ]
  },
  {
   "cell_type": "code",
   "execution_count": 242,
   "metadata": {
    "collapsed": true
   },
   "outputs": [],
   "source": [
    "# x1, y1, x2, y2 = box_max\n",
    "# out = west_img.copy()\n",
    "# cv2.rectangle(out, (x1-30, y1-30), (x2+30, y2+80), (0, 0, 255), 10)\n",
    "# show_image_in_window(out)"
   ]
  },
  {
   "cell_type": "code",
   "execution_count": 28,
   "metadata": {
    "collapsed": true
   },
   "outputs": [],
   "source": [
    "# out = mask.copy()\n",
    "# x1, y1, x2, y2 = box_max\n",
    "# out[:y1 - 30, :] = 0\n",
    "# out[y2 + 80:, :] = 0\n",
    "# out[:, :x1 - 30] = 0\n",
    "# out[:, x2 + 30:] = 0\n",
    "\n",
    "# kernel = cv2.getStructuringElement(cv2.MORPH_RECT,(20, 20))\n",
    "# # 闭运算\n",
    "# closed = cv2.morphologyEx(out, cv2.MORPH_OPEN, kernel)\n",
    "\n",
    "# show_image_in_window(closed)"
   ]
  },
  {
   "cell_type": "code",
   "execution_count": 27,
   "metadata": {
    "collapsed": true
   },
   "outputs": [],
   "source": [
    "\n",
    "x1, y1, x2, y2 = box_max\n",
    "\n",
    "mask[:y1 - 20, :] = 0\n",
    "mask[y2 + 80:, :] = 0\n",
    "mask[:, :x1 - 20] = 0\n",
    "mask[:, x2 + 20:] = 0\n",
    "\n",
    "kernel = cv2.getStructuringElement(cv2.MORPH_RECT,(20, 20))\n",
    "# 闭运算\n",
    "closed = cv2.morphologyEx(mask, cv2.MORPH_OPEN, kernel)\n",
    "\n",
    "ind = np.where(closed==255)\n",
    "xmin, xmax, ymin, ymax = np.min(ind[0]), np.max(ind[0]), np.min(ind[1]), np.max(ind[1])\n",
    "\n",
    "cv2.rectangle(west_img, (ymin - 10, xmin - 10), (ymax + 40, xmax + 10), (0, 0, 255), 10)\n",
    "show_image_in_window(west_img)"
   ]
  },
  {
   "cell_type": "code",
   "execution_count": null,
   "metadata": {
    "collapsed": true
   },
   "outputs": [],
   "source": []
  },
  {
   "cell_type": "markdown",
   "metadata": {
    "collapsed": true
   },
   "source": [
    "# --最终版本"
   ]
  },
  {
   "cell_type": "code",
   "execution_count": 2,
   "metadata": {
    "collapsed": true
   },
   "outputs": [],
   "source": [
    "import os  \n",
    "import glob\n",
    "import cv2\n",
    "import time\n",
    "import numpy as np\n",
    "\n",
    "def get_bbox(img, mask):\n",
    "\n",
    "    img[mask==0,:] = 0\n",
    "    \n",
    "    bbox = []\n",
    "    for i in range(1, 10):\n",
    "        template = cv2.imread('template_e0{}.jpg'.format(i))\n",
    "        h, w, _ = template.shape\n",
    "\n",
    "        # Apply template Matching\n",
    "        res = cv2.matchTemplate(img, template, cv2.TM_CCOEFF_NORMED)\n",
    "        \n",
    "        threshold = int(np.max(res)*1000)/1000\n",
    "        loc = np.where(res >= threshold)\n",
    "        \n",
    "        for pt in zip(*loc[::-1]):\n",
    "#             print(\"{}:{}\".format(i, [pt[0], pt[1], pt[0] + w, pt[1] + h]))\n",
    "            bbox.append([pt[0], pt[1], pt[0] + w, pt[1] + h])\n",
    "            \n",
    "    return bbox\n",
    "\n",
    "\n",
    "def if_overlap(bbox1, bbox2):\n",
    "\n",
    "    x1_a, y1_a, x2_a, y2_a = bbox1\n",
    "    x1_b, y1_b, x2_b, y2_b = bbox2\n",
    "    \n",
    "    width_a = x2_a - x1_a\n",
    "    height_a = y2_a - y1_a\n",
    "    \n",
    "    width_b = x2_b - x1_b\n",
    "    height_b = y2_b - y1_b\n",
    "    \n",
    "    startx = min(x1_a, x1_b)\n",
    "    endx = max(x2_a, x2_b)\n",
    "    w = width_a + width_b - (endx - startx)\n",
    "    \n",
    "    starty = min(y1_a, y1_b)\n",
    "    endy = max(y2_a, y2_b)\n",
    "    h = height_a + height_b - (endy - starty)\n",
    "    \n",
    "    if w <= 0 or h <= 0:\n",
    "        return False\n",
    "    else:\n",
    "        return True\n",
    "\n",
    "def remove_overlap_box(bbox):\n",
    "\n",
    "    for i in bbox[1:]:\n",
    "        j = bbox[0]\n",
    "        if if_overlap(i, j):\n",
    "            bbox.remove(i)\n",
    "            bbox.remove(j)\n",
    "            new = [min(i[0], j[0]), min(i[1], j[1]), max(i[2], j[2]), max(i[3], j[3])]\n",
    "            bbox.insert(0, new)\n",
    "    return bbox\n",
    "\n",
    "\n",
    "def get_location(img_data):\n",
    "\n",
    "    hsv = cv2.cvtColor(img_data, cv2.COLOR_BGR2HSV)\n",
    "\n",
    "    blue_lower = np.array([100,50,50])\n",
    "    blue_upper = np.array([124,255,255])\n",
    "    mask = cv2.inRange(hsv,blue_lower,blue_upper)\n",
    "\n",
    "    img_cp = img_data.copy()\n",
    "    bbox = get_bbox(img_cp, mask)  \n",
    "\n",
    "    t = []\n",
    "    while len(bbox) != 0:\n",
    "        bbox = remove_overlap_box(bbox)\n",
    "        t.append(bbox[0])\n",
    "        bbox.pop(0)\n",
    "\n",
    "    box_max = t[0]\n",
    "    if len(t) > 1:    \n",
    "        area_max = 0\n",
    "        for i in t:\n",
    "            x1, y1, x2, y2 = i\n",
    "            area = (x2 - x1) * (y2 - y1)\n",
    "            if area_max < area:\n",
    "                box_max = i\n",
    "                area_max = area       \n",
    "\n",
    "    x1, y1, x2, y2 = box_max\n",
    "\n",
    "    mask[:y1 - 20, :] = 0\n",
    "    mask[y2 + 80:, :] = 0\n",
    "    mask[:, :x1 - 20] = 0\n",
    "    mask[:, x2 + 20:] = 0\n",
    "\n",
    "    kernel = cv2.getStructuringElement(cv2.MORPH_RECT,(20, 20))\n",
    "\n",
    "    closed = cv2.morphologyEx(mask, cv2.MORPH_OPEN, kernel)\n",
    "\n",
    "    ind = np.where(closed==255)\n",
    "    xmin, xmax, ymin, ymax = np.min(ind[0]), np.max(ind[0]), np.min(ind[1]), np.max(ind[1])\n",
    "    return [ymin, ymax, xmin, xmax]\n"
   ]
  },
  {
   "cell_type": "code",
   "execution_count": 8,
   "metadata": {
    "collapsed": true
   },
   "outputs": [],
   "source": []
  },
  {
   "cell_type": "code",
   "execution_count": 6,
   "metadata": {},
   "outputs": [
    {
     "name": "stdout",
     "output_type": "stream",
     "text": [
      "image:west001.jpg, time:26.477701902389526\n",
      "image:west002.jpg, time:27.143871784210205\n",
      "image:west003.jpg, time:26.290378093719482\n",
      "image:west004.jpg, time:27.34402370452881\n",
      "image:west005.jpg, time:27.57569932937622\n"
     ]
    },
    {
     "ename": "KeyboardInterrupt",
     "evalue": "",
     "output_type": "error",
     "traceback": [
      "\u001b[1;31m---------------------------------------------------------------------------\u001b[0m",
      "\u001b[1;31mKeyboardInterrupt\u001b[0m                         Traceback (most recent call last)",
      "\u001b[1;32m<ipython-input-6-e1d0a9f74f6c>\u001b[0m in \u001b[0;36m<module>\u001b[1;34m()\u001b[0m\n\u001b[0;32m      5\u001b[0m     \u001b[0mtic\u001b[0m \u001b[1;33m=\u001b[0m \u001b[0mtime\u001b[0m\u001b[1;33m.\u001b[0m\u001b[0mtime\u001b[0m\u001b[1;33m(\u001b[0m\u001b[1;33m)\u001b[0m\u001b[1;33m\u001b[0m\u001b[0m\n\u001b[0;32m      6\u001b[0m     \u001b[0mwest_img\u001b[0m \u001b[1;33m=\u001b[0m \u001b[0mcv2\u001b[0m\u001b[1;33m.\u001b[0m\u001b[0mimread\u001b[0m\u001b[1;33m(\u001b[0m\u001b[0mi\u001b[0m\u001b[1;33m)\u001b[0m\u001b[1;33m\u001b[0m\u001b[0m\n\u001b[1;32m----> 7\u001b[1;33m     \u001b[0mxmin\u001b[0m\u001b[1;33m,\u001b[0m \u001b[0mxmax\u001b[0m\u001b[1;33m,\u001b[0m \u001b[0mymin\u001b[0m\u001b[1;33m,\u001b[0m \u001b[0mymax\u001b[0m \u001b[1;33m=\u001b[0m \u001b[0mget_location\u001b[0m\u001b[1;33m(\u001b[0m\u001b[0mwest_img\u001b[0m\u001b[1;33m)\u001b[0m\u001b[1;33m\u001b[0m\u001b[0m\n\u001b[0m\u001b[0;32m      8\u001b[0m \u001b[1;33m\u001b[0m\u001b[0m\n\u001b[0;32m      9\u001b[0m     \u001b[1;31m# 保存路牌\u001b[0m\u001b[1;33m\u001b[0m\u001b[1;33m\u001b[0m\u001b[0m\n",
      "\u001b[1;32m<ipython-input-2-4b82a526dd09>\u001b[0m in \u001b[0;36mget_location\u001b[1;34m(img_data)\u001b[0m\n\u001b[0;32m     72\u001b[0m \u001b[1;33m\u001b[0m\u001b[0m\n\u001b[0;32m     73\u001b[0m     \u001b[0mimg_cp\u001b[0m \u001b[1;33m=\u001b[0m \u001b[0mimg_data\u001b[0m\u001b[1;33m.\u001b[0m\u001b[0mcopy\u001b[0m\u001b[1;33m(\u001b[0m\u001b[1;33m)\u001b[0m\u001b[1;33m\u001b[0m\u001b[0m\n\u001b[1;32m---> 74\u001b[1;33m     \u001b[0mbbox\u001b[0m \u001b[1;33m=\u001b[0m \u001b[0mget_bbox\u001b[0m\u001b[1;33m(\u001b[0m\u001b[0mimg_cp\u001b[0m\u001b[1;33m,\u001b[0m \u001b[0mmask\u001b[0m\u001b[1;33m)\u001b[0m\u001b[1;33m\u001b[0m\u001b[0m\n\u001b[0m\u001b[0;32m     75\u001b[0m \u001b[1;33m\u001b[0m\u001b[0m\n\u001b[0;32m     76\u001b[0m     \u001b[0mt\u001b[0m \u001b[1;33m=\u001b[0m \u001b[1;33m[\u001b[0m\u001b[1;33m]\u001b[0m\u001b[1;33m\u001b[0m\u001b[0m\n",
      "\u001b[1;32m<ipython-input-2-4b82a526dd09>\u001b[0m in \u001b[0;36mget_bbox\u001b[1;34m(img, mask)\u001b[0m\n\u001b[0;32m     15\u001b[0m \u001b[1;33m\u001b[0m\u001b[0m\n\u001b[0;32m     16\u001b[0m         \u001b[1;31m# Apply template Matching\u001b[0m\u001b[1;33m\u001b[0m\u001b[1;33m\u001b[0m\u001b[0m\n\u001b[1;32m---> 17\u001b[1;33m         \u001b[0mres\u001b[0m \u001b[1;33m=\u001b[0m \u001b[0mcv2\u001b[0m\u001b[1;33m.\u001b[0m\u001b[0mmatchTemplate\u001b[0m\u001b[1;33m(\u001b[0m\u001b[0mimg\u001b[0m\u001b[1;33m,\u001b[0m \u001b[0mtemplate\u001b[0m\u001b[1;33m,\u001b[0m \u001b[0mcv2\u001b[0m\u001b[1;33m.\u001b[0m\u001b[0mTM_CCOEFF_NORMED\u001b[0m\u001b[1;33m)\u001b[0m\u001b[1;33m\u001b[0m\u001b[0m\n\u001b[0m\u001b[0;32m     18\u001b[0m \u001b[1;33m\u001b[0m\u001b[0m\n\u001b[0;32m     19\u001b[0m         \u001b[0mthreshold\u001b[0m \u001b[1;33m=\u001b[0m \u001b[0mint\u001b[0m\u001b[1;33m(\u001b[0m\u001b[0mnp\u001b[0m\u001b[1;33m.\u001b[0m\u001b[0mmax\u001b[0m\u001b[1;33m(\u001b[0m\u001b[0mres\u001b[0m\u001b[1;33m)\u001b[0m\u001b[1;33m*\u001b[0m\u001b[1;36m1000\u001b[0m\u001b[1;33m)\u001b[0m\u001b[1;33m/\u001b[0m\u001b[1;36m1000\u001b[0m\u001b[1;33m\u001b[0m\u001b[0m\n",
      "\u001b[1;31mKeyboardInterrupt\u001b[0m: "
     ]
    }
   ],
   "source": [
    "img_list = glob.glob(r'images/west*.jpg')\n",
    "save_path = r'res/{}'\n",
    "for i in img_list:\n",
    "    img_name = os.path.basename(i)\n",
    "    tic = time.time()\n",
    "    west_img = cv2.imread(i)\n",
    "    xmin, xmax, ymin, ymax = get_location(west_img)\n",
    "    \n",
    "    # 保存路牌\n",
    "    sign = west_img[ymin - 10:ymax + 40, xmin - 10:xmax + 10, :]\n",
    "    cv2.imwrite(save_path.format(\"road_sign_of_\" + img_name), sign)\n",
    "    toc = time.time()\n",
    "    print(\"image:{}, time:{}\".format(img_name, toc-tic))\n",
    "\n",
    "    # cv2.rectangle(west_img, (xmin - 10, ymin - 10), (xmax + 10, ymax + 40), (0, 0, 255), 10)\n",
    "    # cv2.imwrite(save_path.format(img_name), west_img)"
   ]
  },
  {
   "cell_type": "code",
   "execution_count": null,
   "metadata": {
    "collapsed": true
   },
   "outputs": [],
   "source": []
  },
  {
   "cell_type": "code",
   "execution_count": null,
   "metadata": {
    "collapsed": true
   },
   "outputs": [],
   "source": []
  },
  {
   "cell_type": "code",
   "execution_count": null,
   "metadata": {
    "collapsed": true
   },
   "outputs": [],
   "source": []
  }
 ],
 "metadata": {
  "kernelspec": {
   "display_name": "Python 3",
   "language": "python",
   "name": "python3"
  },
  "language_info": {
   "codemirror_mode": {
    "name": "ipython",
    "version": 3
   },
   "file_extension": ".py",
   "mimetype": "text/x-python",
   "name": "python",
   "nbconvert_exporter": "python",
   "pygments_lexer": "ipython3",
   "version": "3.6.4"
  }
 },
 "nbformat": 4,
 "nbformat_minor": 2
}
